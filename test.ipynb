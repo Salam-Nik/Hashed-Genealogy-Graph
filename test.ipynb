{
 "cells": [
  {
   "cell_type": "code",
   "execution_count": 1,
   "metadata": {},
   "outputs": [],
   "source": [
    "from HashedGenealogyGraph import HGG, RelationType\n"
   ]
  },
  {
   "cell_type": "code",
   "execution_count": 2,
   "metadata": {},
   "outputs": [
    {
     "name": "stdout",
     "output_type": "stream",
     "text": [
      "Is Ancestor: False\n",
      "Is Sibling: False\n",
      "Is Distant Relative: False\n",
      "Common Ancestor: \n",
      "Furthest Descendant: 1\n"
     ]
    },
    {
     "name": "stderr",
     "output_type": "stream",
     "text": [
      "File not found: genealogy_save.txt\n"
     ]
    }
   ],
   "source": [
    "hgg = HGG()\n",
    "\n",
    "graph = hgg.createHashedGenealogyGraph(auto_save=True)\n",
    "\n",
    "children_data = [\n",
    "    (\"Bob\", \"Johnson\", 4),\n",
    "    (\"Eve\", \"Taylor\", 5)\n",
    "]\n",
    "\n",
    "hgg.addEdge(graph, \"John\", \"Doe\", 1, \"Jane\", \"Doe\", 2, children_data)\n",
    "\n",
    "result_ancestor = hgg.isAncestor(graph, \"John\", \"Doe\", 1, \"Jane\", \"Doe\", 2)\n",
    "result_sibling = hgg.isSibling(graph, \"Alice\", \"Smith\", 3, \"Bob\", \"Johnson\", 4)\n",
    "result_distant_relative = hgg.isDistantRelative(graph, \"John\", \"Doe\", 1, \"Eve\", \"Taylor\", 5)\n",
    "result_common_ancestor = hgg.findCommonAncestor(graph, \"John\", \"Doe\", 1, \"Alice\", \"Smith\", 3)\n",
    "result_furthest_descendant = hgg.findFurthestDescendant(graph, \"John\", \"Doe\", 1)\n",
    "\n",
    "print(\"Is Ancestor:\", result_ancestor)\n",
    "print(\"Is Sibling:\", result_sibling)\n",
    "print(\"Is Distant Relative:\", result_distant_relative)\n",
    "print(\"Common Ancestor:\", result_common_ancestor)\n",
    "print(\"Furthest Descendant:\", result_furthest_descendant)"
   ]
  },
  {
   "cell_type": "code",
   "execution_count": null,
   "metadata": {},
   "outputs": [],
   "source": []
  }
 ],
 "metadata": {
  "kernelspec": {
   "display_name": "my_env",
   "language": "python",
   "name": "python3"
  },
  "language_info": {
   "codemirror_mode": {
    "name": "ipython",
    "version": 3
   },
   "file_extension": ".py",
   "mimetype": "text/x-python",
   "name": "python",
   "nbconvert_exporter": "python",
   "pygments_lexer": "ipython3",
   "version": "3.12.1"
  }
 },
 "nbformat": 4,
 "nbformat_minor": 2
}
