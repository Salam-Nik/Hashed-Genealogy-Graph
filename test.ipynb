{
 "cells": [
  {
   "cell_type": "code",
   "execution_count": 1,
   "metadata": {},
   "outputs": [],
   "source": [
    "from HashedGenealogyGraph import HGG, RelationType\n"
   ]
  },
  {
   "cell_type": "code",
   "execution_count": 3,
   "metadata": {},
   "outputs": [
    {
     "name": "stdout",
     "output_type": "stream",
     "text": [
      "here\n",
      "here\n",
      "here\n",
      "here\n",
      "here\n",
      "Is Ancestor: False\n",
      "Is Sibling: False\n",
      "Is Distant Relative: False\n",
      "Common Ancestor: \n",
      "Furthest Descendant: 0\n"
     ]
    },
    {
     "name": "stderr",
     "output_type": "stream",
     "text": [
      "GEDCOM file not found: genealogy_save.txt\n"
     ]
    }
   ],
   "source": [
    "\n",
    "dataset = [\n",
    "    {\"name\": \"John\", \"last_name\": \"Doe\", \"id\": 1},\n",
    "    {\"name\": \"Jane\", \"last_name\": \"Doe\", \"id\": 2}, \n",
    "    {\"name\": \"Alice\", \"last_name\": \"Smith\", \"id\": 3},\n",
    "    {\"name\": \"Bob\", \"last_name\": \"Johnson\", \"id\": 4},\n",
    "    {\"name\": \"Eve\", \"last_name\": \"Taylor\", \"id\": 5},\n",
    "]\n",
    "\n",
    "hgg = HGG()\n",
    "\n",
    "graph = hgg.createHashedGenealogyGraph(auto_save=True)\n",
    "\n",
    "hgg.addEdge(graph, \"John\", \"Doe\", 1, \"Jane\", \"Doe\", 2, RelationType.Parent)\n",
    "hgg.addEdge(graph, \"Alice\", \"Smith\", 3, \"Bob\", \"Johnson\", 4, RelationType.Married)\n",
    "hgg.addEdge(graph, \"Bob\", \"Johnson\", 4, \"Eve\", \"Taylor\", 5, RelationType.Child)\n",
    "\n",
    "print(\"here\")\n",
    "result_ancestor = hgg.isAncestor(graph, \"John\", \"Doe\", 1, \"Jane\", \"Doe\", 2)\n",
    "print(\"here\")\n",
    "result_sibling = hgg.isSibling(graph, \"Alice\", \"Smith\", 3, \"Bob\", \"Johnson\", 4)\n",
    "print(\"here\")\n",
    "result_distant_relative = hgg.isDistantRelative(graph, \"John\", \"Doe\", 1, \"Eve\", \"Taylor\", 5)\n",
    "print(\"here\")\n",
    "result_common_ancestor = hgg.findCommonAncestor(graph, \"John\", \"Doe\", 1, \"Alice\", \"Smith\", 3)\n",
    "print(\"here\")\n",
    "result_furthest_descendant = hgg.findFurthestDescendant(graph, \"John\", \"Doe\", 1)\n",
    "\n",
    "print(\"Is Ancestor:\", result_ancestor)\n",
    "print(\"Is Sibling:\", result_sibling)\n",
    "print(\"Is Distant Relative:\", result_distant_relative)\n",
    "print(\"Common Ancestor:\", result_common_ancestor)\n",
    "print(\"Furthest Descendant:\", result_furthest_descendant)\n"
   ]
  },
  {
   "cell_type": "code",
   "execution_count": null,
   "metadata": {},
   "outputs": [],
   "source": []
  }
 ],
 "metadata": {
  "kernelspec": {
   "display_name": "my_env",
   "language": "python",
   "name": "python3"
  },
  "language_info": {
   "codemirror_mode": {
    "name": "ipython",
    "version": 3
   },
   "file_extension": ".py",
   "mimetype": "text/x-python",
   "name": "python",
   "nbconvert_exporter": "python",
   "pygments_lexer": "ipython3",
   "version": "3.12.1"
  }
 },
 "nbformat": 4,
 "nbformat_minor": 2
}
