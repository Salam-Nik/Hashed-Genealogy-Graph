{
 "cells": [
  {
   "cell_type": "code",
   "execution_count": 12,
   "metadata": {},
   "outputs": [
    {
     "name": "stdout",
     "output_type": "stream",
     "text": [
      "Library path: /home/salam/Documents/ds/Hashed-Genealogy-Graph/build/libHashedGenealogyGraph.so\n"
     ]
    },
    {
     "ename": "OSError",
     "evalue": "/home/salam/Documents/ds/Hashed-Genealogy-Graph/build/libHashedGenealogyGraph.so: undefined symbol: _ZN6SHA25613getHashStringERKNSt7__cxx1112basic_stringIcSt11char_traitsIcESaIcEEE",
     "output_type": "error",
     "traceback": [
      "\u001b[0;31m---------------------------------------------------------------------------\u001b[0m",
      "\u001b[0;31mOSError\u001b[0m                                   Traceback (most recent call last)",
      "Cell \u001b[0;32mIn[12], line 9\u001b[0m\n\u001b[1;32m      6\u001b[0m \u001b[38;5;28mprint\u001b[39m(\u001b[38;5;124m\"\u001b[39m\u001b[38;5;124mLibrary path:\u001b[39m\u001b[38;5;124m\"\u001b[39m, lib_path)\n\u001b[1;32m      8\u001b[0m \u001b[38;5;66;03m# Load the shared library using ctypes\u001b[39;00m\n\u001b[0;32m----> 9\u001b[0m HGG_lib \u001b[38;5;241m=\u001b[39m \u001b[43mctypes\u001b[49m\u001b[38;5;241;43m.\u001b[39;49m\u001b[43mCDLL\u001b[49m\u001b[43m(\u001b[49m\u001b[43mlib_path\u001b[49m\u001b[43m)\u001b[49m\n",
      "File \u001b[0;32m~/miniconda3/envs/my_env/lib/python3.12/ctypes/__init__.py:379\u001b[0m, in \u001b[0;36mCDLL.__init__\u001b[0;34m(self, name, mode, handle, use_errno, use_last_error, winmode)\u001b[0m\n\u001b[1;32m    376\u001b[0m \u001b[38;5;28mself\u001b[39m\u001b[38;5;241m.\u001b[39m_FuncPtr \u001b[38;5;241m=\u001b[39m _FuncPtr\n\u001b[1;32m    378\u001b[0m \u001b[38;5;28;01mif\u001b[39;00m handle \u001b[38;5;129;01mis\u001b[39;00m \u001b[38;5;28;01mNone\u001b[39;00m:\n\u001b[0;32m--> 379\u001b[0m     \u001b[38;5;28mself\u001b[39m\u001b[38;5;241m.\u001b[39m_handle \u001b[38;5;241m=\u001b[39m \u001b[43m_dlopen\u001b[49m\u001b[43m(\u001b[49m\u001b[38;5;28;43mself\u001b[39;49m\u001b[38;5;241;43m.\u001b[39;49m\u001b[43m_name\u001b[49m\u001b[43m,\u001b[49m\u001b[43m \u001b[49m\u001b[43mmode\u001b[49m\u001b[43m)\u001b[49m\n\u001b[1;32m    380\u001b[0m \u001b[38;5;28;01melse\u001b[39;00m:\n\u001b[1;32m    381\u001b[0m     \u001b[38;5;28mself\u001b[39m\u001b[38;5;241m.\u001b[39m_handle \u001b[38;5;241m=\u001b[39m handle\n",
      "\u001b[0;31mOSError\u001b[0m: /home/salam/Documents/ds/Hashed-Genealogy-Graph/build/libHashedGenealogyGraph.so: undefined symbol: _ZN6SHA25613getHashStringERKNSt7__cxx1112basic_stringIcSt11char_traitsIcESaIcEEE"
     ]
    }
   ],
   "source": [
    "import os\n",
    "import ctypes\n",
    "\n",
    "# Specify the absolute path to the shared library\n",
    "lib_path = \"/home/salam/Documents/ds/Hashed-Genealogy-Graph/build/libHashedGenealogyGraph.so\"\n",
    "print(\"Library path:\", lib_path)\n",
    "\n",
    "# Load the shared library using ctypes\n",
    "HGG_lib = ctypes.CDLL(lib_path)\n"
   ]
  },
  {
   "cell_type": "code",
   "execution_count": 2,
   "metadata": {},
   "outputs": [
    {
     "name": "stdout",
     "output_type": "stream",
     "text": [
      "Number of words in the string: ['aboard', 'beetle', 'bicycle', 'brown', 'brutal', 'cents', 'chivalrous', 'clattering', 'cloudy', 'clowns', 'daredevil', 'development', 'dissimilar', 'doors', 'doughnut', 'exchanges', 'flaws', 'foretell', 'groundsman', 'highjacked', 'hippopotamus', 'horrendous', 'illusions', 'intriguingly', 'kettledrums', 'lighthouse', 'lyrics', 'magazines', 'mandolin', 'mansburg', 'moss', 'moved', 'national', 'notes', 'possums', 'potter', 'raincoat', 'relatives', 'roller', 'rubbers', 'saddles', 'shipyard', 'sleighbacks', 'southerly', 'storyteller', 'stricter', 'takeover', 'telegraph', 'turkey', 'uphill']\n"
     ]
    }
   ],
   "source": [
    "input_ = \"aboard beetle bicycle brown brutal cents chivalrous clattering cloudy clowns daredevil development dissimilar doors doughnut exchanges flaws foretell groundsman highjacked hippopotamus horrendous illusions intriguingly kettledrums lighthouse lyrics magazines mandolin mansburg moss moved national notes possums potter raincoat relatives roller rubbers saddles shipyard sleighbacks southerly storyteller stricter takeover telegraph turkey uphill\"\n",
    "word_count =  input_.split()\n",
    "print(f\"Number of words in the string: {word_count}\")"
   ]
  },
  {
   "cell_type": "code",
   "execution_count": null,
   "metadata": {},
   "outputs": [],
   "source": []
  },
  {
   "cell_type": "code",
   "execution_count": null,
   "metadata": {},
   "outputs": [],
   "source": []
  },
  {
   "cell_type": "code",
   "execution_count": null,
   "metadata": {},
   "outputs": [],
   "source": []
  },
  {
   "cell_type": "code",
   "execution_count": null,
   "metadata": {},
   "outputs": [],
   "source": []
  },
  {
   "cell_type": "code",
   "execution_count": null,
   "metadata": {},
   "outputs": [],
   "source": []
  },
  {
   "cell_type": "markdown",
   "metadata": {},
   "source": []
  },
  {
   "cell_type": "markdown",
   "metadata": {},
   "source": []
  },
  {
   "cell_type": "markdown",
   "metadata": {},
   "source": []
  },
  {
   "cell_type": "code",
   "execution_count": null,
   "metadata": {},
   "outputs": [],
   "source": []
  },
  {
   "cell_type": "code",
   "execution_count": null,
   "metadata": {},
   "outputs": [],
   "source": []
  },
  {
   "cell_type": "code",
   "execution_count": null,
   "metadata": {},
   "outputs": [],
   "source": []
  }
 ],
 "metadata": {
  "kernelspec": {
   "display_name": "my_env",
   "language": "python",
   "name": "python3"
  },
  "language_info": {
   "codemirror_mode": {
    "name": "ipython",
    "version": 3
   },
   "file_extension": ".py",
   "mimetype": "text/x-python",
   "name": "python",
   "nbconvert_exporter": "python",
   "pygments_lexer": "ipython3",
   "version": "3.12.1"
  }
 },
 "nbformat": 4,
 "nbformat_minor": 2
}
